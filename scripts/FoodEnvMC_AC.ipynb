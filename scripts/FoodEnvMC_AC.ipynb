{
 "cells": [
  {
   "cell_type": "code",
   "execution_count": 1,
   "metadata": {},
   "outputs": [],
   "source": [
    "import gym\n",
    "import numpy as np\n",
    "from collections import deque\n",
    "import matplotlib.pyplot as plt\n",
    "import random\n",
    "import torch\n",
    "import torch.nn as nn\n",
    "import torch.nn.functional as F\n",
    "import torch.autograd\n",
    "import torch.optim as optim\n",
    "from torch.autograd import Variable\n",
    "import time\n",
    "from collections import namedtuple\n",
    "from torch.distributions import Categorical\n",
    "from typing import NamedTuple, List\n",
    "import pandas as pd\n",
    "from tqdm.notebook import tqdm"
   ]
  },
  {
   "cell_type": "markdown",
   "metadata": {},
   "source": [
    "## Environment Class"
   ]
  },
  {
   "cell_type": "code",
   "execution_count": 2,
   "metadata": {},
   "outputs": [],
   "source": [
    "class FoodItem(NamedTuple):\n",
    "    calories: float\n",
    "    carbs: float\n",
    "    fats: float\n",
    "    protein: float"
   ]
  },
  {
   "cell_type": "code",
   "execution_count": 3,
   "metadata": {},
   "outputs": [],
   "source": [
    "class FoodEnv:\n",
    "    \"\"\"\n",
    "    A class representing an environment for a food consumption task.\n",
    "\n",
    "    Parameters\n",
    "    ----------\n",
    "    file_path : str\n",
    "        The path to the CSV file containing the food data.\n",
    "\n",
    "    Attributes\n",
    "    ----------\n",
    "    file_path : str\n",
    "        The path to the CSV file containing the food data.\n",
    "    food_df : pandas.DataFrame\n",
    "        The DataFrame containing the food data.\n",
    "    num_items : int\n",
    "        The number of items in the food data.\n",
    "    Calories : list of float\n",
    "        The list of calorie values for the items.\n",
    "    Protein : list of float\n",
    "        The list of protein values for the items.\n",
    "    Fat : list of float\n",
    "        The list of fat values for the items.\n",
    "    Carbs : list of float\n",
    "        The list of carbohydrate values for the items.\n",
    "    item_list : list of str\n",
    "        The list of item names.\n",
    "    food_list : dict of int to FoodItem\n",
    "        A dictionary mapping item indices to [FoodItem](cci:2://c:/Myfiles/CNSlab/Apetite Control/2024/July/03_07_2024/foodenv.py:18:0-22:18) objects.\n",
    "    targets : FoodItem\n",
    "        The target food values.\n",
    "    human_state : list of float\n",
    "        The current state of the human.\n",
    "    food_item_sample : int\n",
    "        The index of the current food item.\n",
    "    actions : list of str\n",
    "        The list of possible actions.\n",
    "    observations : list of str\n",
    "        The list of possible observations.\n",
    "    action_space : int\n",
    "        The size of the action space.\n",
    "    observation_space : int\n",
    "        The size of the observation space.\n",
    "\n",
    "    Methods\n",
    "    -------\n",
    "    create_food()\n",
    "        Create the `food_list` dictionary.\n",
    "    target_vals()\n",
    "        Set the `targets` attribute to the target food values.\n",
    "    reset()\n",
    "        Reset the environment to its initial state.\n",
    "    step(action)\n",
    "        Take a step in the environment.\n",
    "    reward_fun(curr_human_state, next_human_state)\n",
    "        Calculate the reward for a transition.\n",
    "    \"\"\"\n",
    "    def __init__(self,file_path):\n",
    "        \n",
    "        self.file_path = file_path\n",
    "        self.food_df = pd.read_csv(file_path, header=0)\n",
    "        self.num_items = len(self.food_df)\n",
    "        self.Calories = list(self.food_df['Calories'])\n",
    "        self.Protein = list(self.food_df['Protein'])\n",
    "        self.Fat = list(self.food_df['Fat'])\n",
    "        self.Carbs = list(self.food_df['Carbs'])\n",
    "        self.item_list= list(self.food_df['Food'])\n",
    "\n",
    "        self.decay = np.array([random.uniform(0.5, 0.9) for _ in range(4)])\n",
    "        \n",
    "        self.create_food()\n",
    "        self.target_vals()\n",
    "        self.reset()\n",
    "\n",
    "        # self.actions = ['eat', 'donot eat']\n",
    "        self.observations = ['calories','carbs', 'fats', 'protein']\n",
    "        self.action_space = 2 # Discrete\n",
    "        self.observation_space = 4 # continuous space\n",
    "        \n",
    "    def create_food(self):\n",
    "        self.food_list = {}\n",
    "        for i in range(self.num_items):\n",
    "            self.food_list[i] = FoodItem(self.Calories[i], self.Carbs[i], self.Fat[i], self.Protein[i])\n",
    "\n",
    "    def target_vals(self):\n",
    "        self.targets = FoodItem(1500,60,90,145)\n",
    "    \n",
    "    def step(self, action): # action is to eat or not eat\n",
    "        assert action in [0,1], \"Invalid action chosen\" \n",
    "\n",
    "        curr_state = self.state\n",
    "        food_attributes = self.food_list[self.state[-1]]\n",
    "        if(action == 0):\n",
    "            food_attributes = FoodItem(0, 0, 0, 0) # empty food\n",
    "        \n",
    "        next_state = self.decay*curr_state[:-1] # decay the nutrition status, last element is the food item\n",
    "        next_state = [sum(nutritions) for nutritions in zip(curr_state[:-1], food_attributes)] # Picking the action and calculating the next human_state\n",
    "        \n",
    "        random_food = np.random.choice(self.num_items) # random food item\n",
    "        next_state.append(random_food) # random food item\n",
    "\n",
    "        # Calculating the reward\n",
    "        reward, done = self.reward_fun(curr_state, next_state)\n",
    "        self.state = next_state\n",
    "\n",
    "        return self.state, reward, done\n",
    "\n",
    "    def reward_fun(self, curr_state, next_state):\n",
    "        curr_dist = np.sqrt(sum([sum(nutritions)**2 for nutritions in zip(np.array(curr_state), -1 * np.array(self.targets))]))\n",
    "        next_dist = np.sqrt(sum([sum(nutritions)**2 for nutritions in zip(np.array(next_state), -1 * np.array(self.targets))]))\n",
    "\n",
    "        if next_dist <= 200:\n",
    "            done = True\n",
    "        else:\n",
    "            done = False\n",
    "\n",
    "        reward = curr_dist - next_dist\n",
    "        return reward, done\n",
    "\n",
    "    def reset(self):\n",
    "        self.state = [0,0,0,0]\n",
    "        self.state.append(np.random.choice(self.num_items))\n",
    "        return self.state"
   ]
  },
  {
   "cell_type": "markdown",
   "metadata": {},
   "source": [
    "## ACTOR CRITIC NN"
   ]
  },
  {
   "cell_type": "code",
   "execution_count": 4,
   "metadata": {},
   "outputs": [],
   "source": [
    "class Policy(nn.Module):\n",
    "    \"\"\"\n",
    "    A class representing a policy network for a food consumption task.\n",
    "\n",
    "    Parameters\n",
    "    ----------\n",
    "    num_states : int, optional\n",
    "        The number of state variables in the environment, by default 4.\n",
    "    num_actions : int, optional\n",
    "        The number of possible actions in the environment, by default 10.\n",
    "    hidden_size : int, optional\n",
    "        The size of the hidden layer in the network, by default 128.\n",
    "\n",
    "    Attributes\n",
    "    ----------\n",
    "    num_states : int\n",
    "        The number of state variables in the environment.\n",
    "    num_actions : int\n",
    "        The number of possible actions in the environment.\n",
    "    hidden_size : int\n",
    "        The size of the hidden layer in the network.\n",
    "    actor : torch.nn.Sequential\n",
    "        The actor network that predicts the probability of taking each action given the current state.\n",
    "    critic : torch.nn.Sequential\n",
    "        The critic network that predicts the value of the current state.\n",
    "\n",
    "    Methods\n",
    "    -------\n",
    "    forward(x)\n",
    "        Forward pass of the network.\n",
    "    \"\"\"\n",
    "    def __init__(self, \n",
    "                 num_states = 5, \n",
    "                 num_actions = 2, \n",
    "                 hidden_size = 128):\n",
    "        super(Policy, self).__init__()\n",
    "        self.num_states = num_states\n",
    "        self.num_actions = num_actions\n",
    "        self.hidden_size = hidden_size\n",
    "        \n",
    "        self.actor = nn.Sequential(nn.Linear(self.num_states,self.hidden_size),\n",
    "                                   nn.ReLU(),\n",
    "                                   nn.Linear(self.hidden_size, self.num_actions),\n",
    "                                   nn.Softmax(dim = -1))\n",
    "        self.critic = nn.Sequential(nn.Linear(self.num_states,self.hidden_size),\n",
    "                                   nn.ReLU(),\n",
    "                                   nn.Linear(self.hidden_size, 1))\n",
    "\n",
    "   \n",
    "\n",
    "    def forward(self,x):\n",
    "        action_probs = self.actor(x)\n",
    "        val = self.critic(x)\n",
    "        return action_probs, val"
   ]
  },
  {
   "cell_type": "markdown",
   "metadata": {},
   "source": [
    "## Action selection policy"
   ]
  },
  {
   "cell_type": "code",
   "execution_count": 5,
   "metadata": {},
   "outputs": [],
   "source": [
    "def choose_action(probs):\n",
    "    \"\"\"\n",
    "    Choose an action based on the given probability distribution.\n",
    "\n",
    "    Parameters\n",
    "    ----------\n",
    "    probs : torch.Tensor\n",
    "        The probability distribution over actions.\n",
    "\n",
    "    Returns\n",
    "    -------\n",
    "    action : int\n",
    "        The chosen action.\n",
    "    log_prob : torch.Tensor\n",
    "        The log probability of the chosen action.\n",
    "    \"\"\"\n",
    "    dist = Categorical(probs)\n",
    "    action = dist.sample()\n",
    "    return action.item(), dist.log_prob(action)"
   ]
  },
  {
   "cell_type": "markdown",
   "metadata": {},
   "source": [
    "## Generate Episode (REINFORCE WITH BASELINE)"
   ]
  },
  {
   "cell_type": "code",
   "execution_count": 6,
   "metadata": {},
   "outputs": [],
   "source": [
    "data = namedtuple('env_data',['curr_state', 'action','reward','next_state','action_probs','log_probs','value'])\n",
    "\n",
    "def generate_episode(env,policy):\n",
    "    \"\"\"\n",
    "    Generate a single episode of the environment.\n",
    "\n",
    "    Parameters\n",
    "    ----------\n",
    "    env : FoodEnv\n",
    "        The environment to generate the episode from.\n",
    "    policy : Policy\n",
    "        The policy to use to select actions.\n",
    "\n",
    "    Returns\n",
    "    -------\n",
    "    episode_memory : deque of env_data\n",
    "        The sequence of states, actions, rewards, and next states in the episode.\n",
    "    \"\"\"\n",
    "    memory_deque_perep = deque(maxlen = 500)\n",
    "    env.reset()\n",
    "    curr_state = env.state\n",
    "    done = False\n",
    "    i = 0\n",
    "    while not done:\n",
    "        action_probs, vals = policy(torch.tensor(curr_state, dtype = torch.float32))\n",
    "        \n",
    "        action, log_prob = choose_action(action_probs)\n",
    "        next_state, reward, done = env.step(action)\n",
    "        # print(next_state, reward, done)\n",
    "        memory_deque_perep.append(data(curr_state, action, reward, next_state, action_probs, log_prob,vals))\n",
    "        curr_state = next_state\n",
    "        i += 1\n",
    "        if i >=500:\n",
    "            break\n",
    "    return memory_deque_perep\n",
    "        "
   ]
  },
  {
   "cell_type": "markdown",
   "metadata": {},
   "source": [
    "## REINFORCE (MC ACTOR CRITIC)"
   ]
  },
  {
   "cell_type": "code",
   "execution_count": 7,
   "metadata": {},
   "outputs": [],
   "source": [
    "def reinforce(env, policy, num_episodes,gamma, optimizer):\n",
    "    \"\"\"\n",
    "    Train a policy using reinforcement learning.\n",
    "\n",
    "    Parameters\n",
    "    ----------\n",
    "    env : FoodEnv\n",
    "        The environment to train the policy in.\n",
    "    policy : Policy\n",
    "        The policy to train.\n",
    "    num_episodes : int\n",
    "        The number of episodes to train the policy over.\n",
    "    gamma : float\n",
    "        The discount factor to use for future rewards.\n",
    "    optimizer : torch.optim.Optimizer\n",
    "        The optimizer to use to update the policy parameters.\n",
    "\n",
    "    Returns\n",
    "    -------\n",
    "    reward_monitor : list of float\n",
    "        The average return of each episode.\n",
    "    num_steps_monitor : list of int\n",
    "        The number of steps taken in each episode.\n",
    "    \"\"\"    \n",
    "    reward_monitor = []\n",
    "    num_steps_monitor = []\n",
    "    for ep in tqdm(range(num_episodes)):\n",
    "        \n",
    "        # Generate episode and compute its return\n",
    "        episode_memory = generate_episode(env, policy)\n",
    "        episode_rew = [episode_memory[i].reward for i in range(len(episode_memory))]\n",
    "        episode_curr_state = [episode_memory[i].curr_state for i in range(len(episode_memory))]\n",
    "        episode_next_state = [episode_memory[i].next_state for i in range(len(episode_memory))]\n",
    "        episode_value = [episode_memory[i].value for i in range(len(episode_memory))]\n",
    "        \n",
    "        episode_return = []\n",
    "        return_value = 0\n",
    "        for r in reversed(episode_rew):\n",
    "            return_value += gamma*r\n",
    "            episode_return.insert(0,return_value)\n",
    "\n",
    "        \n",
    "        # Compute policy loss\n",
    "        policy_loss = []\n",
    "        value_loss = []\n",
    "        for i in range(len(episode_memory)):\n",
    "            policy_loss_val = -(episode_return[i] - episode_value[i]) * episode_memory[i].log_probs\n",
    "            if i == len(episode_memory) - 1:\n",
    "                value_loss_val = (episode_rew[i]-episode_value[i])**2 # computes (rew + gamma * val(nextstate)-val(currstate))\n",
    "            else:\n",
    "                value_loss_val = (episode_rew[i]+gamma*episode_value[i+1]-episode_value[i])**2 # computes (rew + gamma * val(nextstate)-val(currstate))\n",
    "            policy_loss.append(policy_loss_val)\n",
    "            value_loss.append(value_loss_val)\n",
    "        \n",
    "        policy_loss = torch.stack(policy_loss).sum()\n",
    "        value_loss = torch.stack(value_loss).sum()\n",
    "        loss_tot = policy_loss + value_loss\n",
    "        if ep%100 == 0:\n",
    "            print(f'ep = {ep}, steps = {len(episode_memory)}, Average return = {episode_return[0]}')\n",
    "        num_steps_monitor.append(len(episode_memory))\n",
    "        reward_monitor.append(episode_return[0])\n",
    "        optimizer.zero_grad()\n",
    "        loss_tot.backward()\n",
    "        optimizer.step()\n",
    "    \n",
    "    return reward_monitor, num_steps_monitor"
   ]
  },
  {
   "cell_type": "code",
   "execution_count": 8,
   "metadata": {},
   "outputs": [],
   "source": [
    "# #torch.manual_seed(100)\n",
    "# model = Policy(num_states = 4,\n",
    "#                num_actions = 10,\n",
    "#                hidden_size = 128)\n",
    "# optimizer = optim.Adam(model.parameters(), lr=1e-3)"
   ]
  },
  {
   "cell_type": "code",
   "execution_count": 9,
   "metadata": {},
   "outputs": [],
   "source": [
    "# env = FoodEnv('foods.csv')"
   ]
  },
  {
   "cell_type": "markdown",
   "metadata": {},
   "source": [
    "## Average accross 5 runs"
   ]
  },
  {
   "cell_type": "code",
   "execution_count": 10,
   "metadata": {},
   "outputs": [
    {
     "data": {
      "application/vnd.jupyter.widget-view+json": {
       "model_id": "91046952a5174614bc2ae65a119861eb",
       "version_major": 2,
       "version_minor": 0
      },
      "text/plain": [
       "  0%|          | 0/3 [00:00<?, ?it/s]"
      ]
     },
     "metadata": {},
     "output_type": "display_data"
    },
    {
     "data": {
      "application/vnd.jupyter.widget-view+json": {
       "model_id": "a692c898f1fd41ad83a830cc970bcf5c",
       "version_major": 2,
       "version_minor": 0
      },
      "text/plain": [
       "  0%|          | 0/1000 [00:00<?, ?it/s]"
      ]
     },
     "metadata": {},
     "output_type": "display_data"
    },
    {
     "name": "stdout",
     "output_type": "stream",
     "text": [
      "ep = 0, steps = 7, Average return = 1340.297983719821\n",
      "ep = 100, steps = 500, Average return = 64.62806892772846\n",
      "ep = 200, steps = 500, Average return = 64.62806892772846\n"
     ]
    },
    {
     "ename": "KeyboardInterrupt",
     "evalue": "",
     "output_type": "error",
     "traceback": [
      "\u001b[1;31m---------------------------------------------------------------------------\u001b[0m",
      "\u001b[1;31mKeyboardInterrupt\u001b[0m                         Traceback (most recent call last)",
      "Cell \u001b[1;32mIn[10], line 11\u001b[0m\n\u001b[0;32m      7\u001b[0m model \u001b[38;5;241m=\u001b[39m Policy(num_states \u001b[38;5;241m=\u001b[39m \u001b[38;5;241m5\u001b[39m,\n\u001b[0;32m      8\u001b[0m            num_actions \u001b[38;5;241m=\u001b[39m \u001b[38;5;241m2\u001b[39m,\n\u001b[0;32m      9\u001b[0m            hidden_size \u001b[38;5;241m=\u001b[39m \u001b[38;5;241m256\u001b[39m)\n\u001b[0;32m     10\u001b[0m optimizer \u001b[38;5;241m=\u001b[39m optim\u001b[38;5;241m.\u001b[39mAdam(model\u001b[38;5;241m.\u001b[39mparameters(), lr\u001b[38;5;241m=\u001b[39m\u001b[38;5;241m1e-3\u001b[39m)\n\u001b[1;32m---> 11\u001b[0m reward_monitor, num_steps_monitor \u001b[38;5;241m=\u001b[39m \u001b[43mreinforce\u001b[49m\u001b[43m(\u001b[49m\u001b[43menv\u001b[49m\u001b[43m,\u001b[49m\u001b[43m \u001b[49m\u001b[43mmodel\u001b[49m\u001b[43m,\u001b[49m\u001b[43m \u001b[49m\u001b[38;5;241;43m1000\u001b[39;49m\u001b[43m,\u001b[49m\u001b[43m \u001b[49m\u001b[38;5;241;43m0.99\u001b[39;49m\u001b[43m,\u001b[49m\u001b[43m \u001b[49m\u001b[43moptimizer\u001b[49m\u001b[43m)\u001b[49m\n\u001b[0;32m     12\u001b[0m rew_arr_5runs[i] \u001b[38;5;241m=\u001b[39m reward_monitor\n\u001b[0;32m     13\u001b[0m steps_arr_5runs[i] \u001b[38;5;241m=\u001b[39m num_steps_monitor\n",
      "Cell \u001b[1;32mIn[7], line 63\u001b[0m, in \u001b[0;36mreinforce\u001b[1;34m(env, policy, num_episodes, gamma, optimizer)\u001b[0m\n\u001b[0;32m     61\u001b[0m     reward_monitor\u001b[38;5;241m.\u001b[39mappend(episode_return[\u001b[38;5;241m0\u001b[39m])\n\u001b[0;32m     62\u001b[0m     optimizer\u001b[38;5;241m.\u001b[39mzero_grad()\n\u001b[1;32m---> 63\u001b[0m     \u001b[43mloss_tot\u001b[49m\u001b[38;5;241;43m.\u001b[39;49m\u001b[43mbackward\u001b[49m\u001b[43m(\u001b[49m\u001b[43m)\u001b[49m\n\u001b[0;32m     64\u001b[0m     optimizer\u001b[38;5;241m.\u001b[39mstep()\n\u001b[0;32m     66\u001b[0m \u001b[38;5;28;01mreturn\u001b[39;00m reward_monitor, num_steps_monitor\n",
      "File \u001b[1;32mc:\\Users\\OMEN\\AppData\\Local\\Programs\\Python\\Python311\\Lib\\site-packages\\torch\\_tensor.py:525\u001b[0m, in \u001b[0;36mTensor.backward\u001b[1;34m(self, gradient, retain_graph, create_graph, inputs)\u001b[0m\n\u001b[0;32m    515\u001b[0m \u001b[38;5;28;01mif\u001b[39;00m has_torch_function_unary(\u001b[38;5;28mself\u001b[39m):\n\u001b[0;32m    516\u001b[0m     \u001b[38;5;28;01mreturn\u001b[39;00m handle_torch_function(\n\u001b[0;32m    517\u001b[0m         Tensor\u001b[38;5;241m.\u001b[39mbackward,\n\u001b[0;32m    518\u001b[0m         (\u001b[38;5;28mself\u001b[39m,),\n\u001b[1;32m   (...)\u001b[0m\n\u001b[0;32m    523\u001b[0m         inputs\u001b[38;5;241m=\u001b[39minputs,\n\u001b[0;32m    524\u001b[0m     )\n\u001b[1;32m--> 525\u001b[0m \u001b[43mtorch\u001b[49m\u001b[38;5;241;43m.\u001b[39;49m\u001b[43mautograd\u001b[49m\u001b[38;5;241;43m.\u001b[39;49m\u001b[43mbackward\u001b[49m\u001b[43m(\u001b[49m\n\u001b[0;32m    526\u001b[0m \u001b[43m    \u001b[49m\u001b[38;5;28;43mself\u001b[39;49m\u001b[43m,\u001b[49m\u001b[43m \u001b[49m\u001b[43mgradient\u001b[49m\u001b[43m,\u001b[49m\u001b[43m \u001b[49m\u001b[43mretain_graph\u001b[49m\u001b[43m,\u001b[49m\u001b[43m \u001b[49m\u001b[43mcreate_graph\u001b[49m\u001b[43m,\u001b[49m\u001b[43m \u001b[49m\u001b[43minputs\u001b[49m\u001b[38;5;241;43m=\u001b[39;49m\u001b[43minputs\u001b[49m\n\u001b[0;32m    527\u001b[0m \u001b[43m\u001b[49m\u001b[43m)\u001b[49m\n",
      "File \u001b[1;32mc:\\Users\\OMEN\\AppData\\Local\\Programs\\Python\\Python311\\Lib\\site-packages\\torch\\autograd\\__init__.py:267\u001b[0m, in \u001b[0;36mbackward\u001b[1;34m(tensors, grad_tensors, retain_graph, create_graph, grad_variables, inputs)\u001b[0m\n\u001b[0;32m    262\u001b[0m     retain_graph \u001b[38;5;241m=\u001b[39m create_graph\n\u001b[0;32m    264\u001b[0m \u001b[38;5;66;03m# The reason we repeat the same comment below is that\u001b[39;00m\n\u001b[0;32m    265\u001b[0m \u001b[38;5;66;03m# some Python versions print out the first line of a multi-line function\u001b[39;00m\n\u001b[0;32m    266\u001b[0m \u001b[38;5;66;03m# calls in the traceback and some print out the last line\u001b[39;00m\n\u001b[1;32m--> 267\u001b[0m \u001b[43m_engine_run_backward\u001b[49m\u001b[43m(\u001b[49m\n\u001b[0;32m    268\u001b[0m \u001b[43m    \u001b[49m\u001b[43mtensors\u001b[49m\u001b[43m,\u001b[49m\n\u001b[0;32m    269\u001b[0m \u001b[43m    \u001b[49m\u001b[43mgrad_tensors_\u001b[49m\u001b[43m,\u001b[49m\n\u001b[0;32m    270\u001b[0m \u001b[43m    \u001b[49m\u001b[43mretain_graph\u001b[49m\u001b[43m,\u001b[49m\n\u001b[0;32m    271\u001b[0m \u001b[43m    \u001b[49m\u001b[43mcreate_graph\u001b[49m\u001b[43m,\u001b[49m\n\u001b[0;32m    272\u001b[0m \u001b[43m    \u001b[49m\u001b[43minputs\u001b[49m\u001b[43m,\u001b[49m\n\u001b[0;32m    273\u001b[0m \u001b[43m    \u001b[49m\u001b[43mallow_unreachable\u001b[49m\u001b[38;5;241;43m=\u001b[39;49m\u001b[38;5;28;43;01mTrue\u001b[39;49;00m\u001b[43m,\u001b[49m\n\u001b[0;32m    274\u001b[0m \u001b[43m    \u001b[49m\u001b[43maccumulate_grad\u001b[49m\u001b[38;5;241;43m=\u001b[39;49m\u001b[38;5;28;43;01mTrue\u001b[39;49;00m\u001b[43m,\u001b[49m\n\u001b[0;32m    275\u001b[0m \u001b[43m\u001b[49m\u001b[43m)\u001b[49m\n",
      "File \u001b[1;32mc:\\Users\\OMEN\\AppData\\Local\\Programs\\Python\\Python311\\Lib\\site-packages\\torch\\autograd\\graph.py:744\u001b[0m, in \u001b[0;36m_engine_run_backward\u001b[1;34m(t_outputs, *args, **kwargs)\u001b[0m\n\u001b[0;32m    742\u001b[0m     unregister_hooks \u001b[38;5;241m=\u001b[39m _register_logging_hooks_on_whole_graph(t_outputs)\n\u001b[0;32m    743\u001b[0m \u001b[38;5;28;01mtry\u001b[39;00m:\n\u001b[1;32m--> 744\u001b[0m     \u001b[38;5;28;01mreturn\u001b[39;00m \u001b[43mVariable\u001b[49m\u001b[38;5;241;43m.\u001b[39;49m\u001b[43m_execution_engine\u001b[49m\u001b[38;5;241;43m.\u001b[39;49m\u001b[43mrun_backward\u001b[49m\u001b[43m(\u001b[49m\u001b[43m  \u001b[49m\u001b[38;5;66;43;03m# Calls into the C++ engine to run the backward pass\u001b[39;49;00m\n\u001b[0;32m    745\u001b[0m \u001b[43m        \u001b[49m\u001b[43mt_outputs\u001b[49m\u001b[43m,\u001b[49m\u001b[43m \u001b[49m\u001b[38;5;241;43m*\u001b[39;49m\u001b[43margs\u001b[49m\u001b[43m,\u001b[49m\u001b[43m \u001b[49m\u001b[38;5;241;43m*\u001b[39;49m\u001b[38;5;241;43m*\u001b[39;49m\u001b[43mkwargs\u001b[49m\n\u001b[0;32m    746\u001b[0m \u001b[43m    \u001b[49m\u001b[43m)\u001b[49m  \u001b[38;5;66;03m# Calls into the C++ engine to run the backward pass\u001b[39;00m\n\u001b[0;32m    747\u001b[0m \u001b[38;5;28;01mfinally\u001b[39;00m:\n\u001b[0;32m    748\u001b[0m     \u001b[38;5;28;01mif\u001b[39;00m attach_logging_hooks:\n",
      "\u001b[1;31mKeyboardInterrupt\u001b[0m: "
     ]
    }
   ],
   "source": [
    "num_runs = 3\n",
    "rew_arr_5runs = np.zeros((num_runs,1000))\n",
    "steps_arr_5runs = np.zeros((num_runs,1000))\n",
    "\n",
    "for i in tqdm(range(num_runs)):\n",
    "    env = FoodEnv('foods.csv')\n",
    "    model = Policy(num_states = 5,\n",
    "               num_actions = 2,\n",
    "               hidden_size = 256)\n",
    "    optimizer = optim.Adam(model.parameters(), lr=1e-3)\n",
    "    reward_monitor, num_steps_monitor = reinforce(env, model, 1000, 0.99, optimizer)\n",
    "    rew_arr_5runs[i] = reward_monitor\n",
    "    steps_arr_5runs[i] = num_steps_monitor"
   ]
  },
  {
   "cell_type": "code",
   "execution_count": null,
   "metadata": {},
   "outputs": [
    {
     "data": {
      "text/plain": [
       "(-500.0, 2000.0)"
      ]
     },
     "execution_count": 166,
     "metadata": {},
     "output_type": "execute_result"
    },
    {
     "data": {
      "image/png": "[encoded data removed]",
      "text/plain": [
       "<Figure size 1200x400 with 2 Axes>"
      ]
     },
     "metadata": {},
     "output_type": "display_data"
    }
   ],
   "source": [
    "mean_rew = np.mean(np.array(rew_arr_5runs), axis = 0)\n",
    "mean_steps = np.mean(np.array(steps_arr_5runs), axis = 0)\n",
    "\n",
    "se_rew = np.std(np.array(rew_arr_5runs), axis = 0)\n",
    "se_steps = np.std(np.array(steps_arr_5runs), axis = 0)\n",
    "\n",
    "episodes = np.arange(1000)\n",
    "\n",
    "plt.figure(figsize=(12,4))\n",
    "plt.subplot(121)\n",
    "plt.plot(episodes, mean_steps)\n",
    "plt.fill_between(episodes, \n",
    "                 mean_steps-se_steps, \n",
    "                 mean_steps+se_steps, \n",
    "                 alpha = 0.3)\n",
    "plt.xlabel('Epsiodes', fontsize = 8)\n",
    "plt.ylabel('Steps', fontsize = 8)\n",
    "plt.title('Number of Steps per episode',fontsize = 9)\n",
    "plt.xlim(0,500)\n",
    "plt.ylim(0,150)\n",
    "\n",
    "plt.subplot(122)\n",
    "plt.plot(episodes, mean_rew)\n",
    "plt.fill_between(episodes, \n",
    "                 mean_rew-se_rew, \n",
    "                 mean_rew+se_rew, \n",
    "                 alpha = 0.3)\n",
    "plt.xlabel('Epsiodes', fontsize = 8)\n",
    "plt.ylabel('Return', fontsize = 8)\n",
    "plt.title('Avg return per episode',fontsize = 9)\n",
    "plt.xlim(0,500)\n",
    "plt.ylim(-500,2000)"
   ]
  }
 ],
 "metadata": {
  "kernelspec": {
   "display_name": "dl_assignment",
   "language": "python",
   "name": "python3"
  },
  "language_info": {
   "codemirror_mode": {
    "name": "ipython",
    "version": 3
   },
   "file_extension": ".py",
   "mimetype": "text/x-python",
   "name": "python",
   "nbconvert_exporter": "python",
   "pygments_lexer": "ipython3",
   "version": "3.11.4"
  }
 },
 "nbformat": 4,
 "nbformat_minor": 2
}
