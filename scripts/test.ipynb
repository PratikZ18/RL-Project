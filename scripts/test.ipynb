{
 "cells": [
  {
   "cell_type": "markdown",
   "metadata": {},
   "source": [
    "### Imports"
   ]
  },
  {
   "cell_type": "code",
   "execution_count": 1,
   "metadata": {},
   "outputs": [],
   "source": [
    "import random\n",
    "import pandas as pd\n",
    "import numpy as np\n",
    "import matplotlib.pyplot as plt\n",
    "from itertools import count\n",
    "from collections import namedtuple\n",
    "\n",
    "import torch\n",
    "import torch.nn as nn\n",
    "import torch.nn.functional as F\n",
    "import torch.optim as optim\n",
    "from torch.distributions import Categorical\n",
    "\n",
    "SavedAction = namedtuple('SavedAction', ['log_prob', 'value'])\n",
    "log_interval = 10\n",
    "gamma = 0.99"
   ]
  },
  {
   "cell_type": "markdown",
   "metadata": {},
   "source": [
    "### Food class"
   ]
  },
  {
   "cell_type": "code",
   "execution_count": 2,
   "metadata": {},
   "outputs": [],
   "source": [
    "class Food:\n",
    "    '''\n",
    "    This class represents a food item. It has the following attributes:\n",
    "    '''\n",
    "    def __init__(self, calories = 0, total_fat = 0, total_carbohydrates = 0, protein = 0):\n",
    "        self.calories = calories\n",
    "        self.total_fat = total_fat\n",
    "        self.total_carbohydrates = total_carbohydrates\n",
    "        self.protein = protein"
   ]
  },
  {
   "cell_type": "markdown",
   "metadata": {},
   "source": [
    "### Evaluate wether food was better"
   ]
  },
  {
   "cell_type": "code",
   "execution_count": 3,
   "metadata": {},
   "outputs": [],
   "source": [
    "def evaluate(human):\n",
    "    '''\n",
    "    evaluate the loss of the human's diet\n",
    "    '''\n",
    "\n",
    "    # target values\n",
    "    target_calories = 2000\n",
    "    target_fat = 70\n",
    "    target_carbs = 310\n",
    "    target_protein = 50\n",
    "\n",
    "    # loss for each attribute\n",
    "    calories_loss = (target_calories - human.calories)**2\n",
    "    fat_loss = (target_fat - human.total_fat)**2\n",
    "    carb_loss = (target_carbs - human.total_carbohydrates)**2\n",
    "    protein_loss = (target_protein - human.protein)**2\n",
    "\n",
    "    \n",
    "    total_loss = calories_loss + fat_loss + carb_loss + protein_loss\n",
    "    return -total_loss # negative because we want to maximize the loss"
   ]
  },
  {
   "cell_type": "markdown",
   "metadata": {},
   "source": [
    "### Environment class (Human)"
   ]
  },
  {
   "cell_type": "markdown",
   "metadata": {},
   "source": [
    "### Food and human initialisation"
   ]
  },
  {
   "cell_type": "code",
   "execution_count": 4,
   "metadata": {},
   "outputs": [],
   "source": [
    "food1 = Food(400, 14, 60, 10)\n",
    "food2 = Food(600, 20, 100, 5)\n",
    "food3 = Food(200, 5, 30, 15)\n",
    "food4 = Food(300, 10, 50, 20)\n",
    "\n",
    "actions = np.array([food1, food2, food3, food4])\n"
   ]
  },
  {
   "cell_type": "code",
   "execution_count": 5,
   "metadata": {},
   "outputs": [],
   "source": [
    "class Human:\n",
    "    '''\n",
    "    This class represents a human. It has the following attributes:\n",
    "    '''\n",
    "\n",
    "    # assuming the human starts with the following nutrients\n",
    "    def __init__(self):\n",
    "        self.state = Food(np.random.randint(1800, 2200), np.random.randint(60, 80), np.random.randint(280, 340), np.random.randint(40, 60)) # random initialisaiton\n",
    "        \n",
    "        self.decay_rate =  np.random.uniform(0.1, 0.3) # random initialisaiton\n",
    "    \n",
    "    # eating adds the nutrients of the food to the human's nutrients and decays a part of already existing nutrients\n",
    "    def step(self, food_id, eat):\n",
    "        food_id = int(food_id)\n",
    "        if(eat == 1):\n",
    "            food = actions[food_id]\n",
    "        else:\n",
    "            food = Food(0, 0, 0, 0)\n",
    "\n",
    "        new_state = Food()\n",
    "        new_state.calories = self.state.calories + food.calories - self.decay_rate * self.state.calories\n",
    "        new_state.total_fat = self.state.total_fat + food.total_fat - self.decay_rate * self.state.total_fat\n",
    "        new_state.total_carbohydrates = self.state.total_carbohydrates + food.total_carbohydrates - self.decay_rate * self.state.total_carbohydrates\n",
    "        new_state.protein = self.state.protein + food.protein - self.decay_rate * self.state.protein\n",
    "\n",
    "        reward = evaluate(new_state) - evaluate(self.state) # reward calculation\n",
    "\n",
    "        random_food = np.random.randint(0, 4)\n",
    "        return_state = np.array([new_state.calories, new_state.total_fat, new_state.total_carbohydrates, new_state.protein, random_food])\n",
    "        self.state = new_state # update the state\n",
    "        \n",
    "        return return_state, reward\n",
    "\n",
    "        \n",
    "        \n",
    "    def reset(self):\n",
    "        self.state = Food(2000, 70, 310, 50)\n",
    "        random_food = np.random.randint(0, 4)\n",
    "\n",
    "        return_state = np.array([self.state.calories, self.state.total_fat, self.state.total_carbohydrates, self.state.protein, random_food])   \n",
    "        \n",
    "        return return_state"
   ]
  },
  {
   "cell_type": "markdown",
   "metadata": {},
   "source": [
    "### Policy Class"
   ]
  },
  {
   "cell_type": "code",
   "execution_count": 6,
   "metadata": {},
   "outputs": [],
   "source": [
    "class Policy(nn.Module):\n",
    "    \"\"\"\n",
    "    implements both actor and critic in one model\n",
    "    \"\"\"\n",
    "    def __init__(self):\n",
    "        super(Policy, self).__init__()\n",
    "        self.affine1 = nn.Linear(5, 128) # input is just the food index as a number\n",
    "\n",
    "        # actor's layer\n",
    "        self.action_head = nn.Linear(128, 2) # 2 possible actions: eat or skip\n",
    "\n",
    "        # critic's layer\n",
    "        self.value_head = nn.Linear(128, 1) #  value is the expected reward\n",
    "\n",
    "        # action & reward buffer\n",
    "        self.saved_actions = []\n",
    "        self.rewards = []\n",
    "\n",
    "    def forward(self, x):\n",
    "        \"\"\"\n",
    "        forward of both actor and critic\n",
    "        \"\"\"\n",
    "        x = F.relu(self.affine1(x))\n",
    "\n",
    "        # actor: choses action to take from state s_t\n",
    "        # by returning probability of each action\n",
    "        action_prob = F.softmax(self.action_head(x), dim=-1)\n",
    "\n",
    "        # critic: evaluates being in the state s_t\n",
    "        state_values = self.value_head(x)\n",
    "\n",
    "        # return values for both actor and critic as a tuple of 2 values:\n",
    "        # 1. a list with the probability of each action over the action space\n",
    "        # 2. the value from state s_t\n",
    "        return action_prob, state_values\n",
    "\n",
    "model = Policy()\n",
    "optimizer = optim.Adam(model.parameters(), lr=3e-2)\n",
    "eps = np.finfo(np.float32).eps.item()"
   ]
  },
  {
   "cell_type": "markdown",
   "metadata": {},
   "source": [
    "### Test"
   ]
  },
  {
   "cell_type": "code",
   "execution_count": 7,
   "metadata": {},
   "outputs": [],
   "source": [
    "env = Human()"
   ]
  },
  {
   "cell_type": "code",
   "execution_count": 8,
   "metadata": {},
   "outputs": [
    {
     "name": "stdout",
     "output_type": "stream",
     "text": [
      "Episode 0\tLast reward: -847125.91\tAverage reward: -42346.80\n",
      "Episode 10\tLast reward: -1305183.33\tAverage reward: -539371.55\n",
      "Episode 20\tLast reward: -1287785.42\tAverage reward: -762963.58\n",
      "Episode 30\tLast reward: -2371938.80\tAverage reward: -954432.63\n",
      "Episode 40\tLast reward: -2466625.31\tAverage reward: -1340724.41\n",
      "Episode 50\tLast reward: -2034409.36\tAverage reward: -1231025.83\n",
      "Episode 60\tLast reward: -853193.62\tAverage reward: -1134320.36\n"
     ]
    },
    {
     "ename": "KeyboardInterrupt",
     "evalue": "",
     "output_type": "error",
     "traceback": [
      "\u001b[1;31m---------------------------------------------------------------------------\u001b[0m",
      "\u001b[1;31mKeyboardInterrupt\u001b[0m                         Traceback (most recent call last)",
      "Cell \u001b[1;32mIn[8], line 105\u001b[0m\n\u001b[0;32m    101\u001b[0m     plt\u001b[38;5;241m.\u001b[39mplot(calories)\n\u001b[0;32m    102\u001b[0m     plt\u001b[38;5;241m.\u001b[39mshow()\n\u001b[1;32m--> 105\u001b[0m \u001b[43mtrain\u001b[49m\u001b[43m(\u001b[49m\u001b[43m)\u001b[49m\n",
      "Cell \u001b[1;32mIn[8], line -1\u001b[0m, in \u001b[0;36mtrain\u001b[1;34m()\u001b[0m\n\u001b[0;32m      0\u001b[0m <Error retrieving source code with stack_data see ipython/ipython#13598>\n",
      "\u001b[1;31mKeyboardInterrupt\u001b[0m: "
     ]
    }
   ],
   "source": [
    "\n",
    "def select_action(state):\n",
    "    state = torch.from_numpy(state).float()\n",
    "    probs, state_value = model(state)\n",
    "\n",
    "    # create a categorical distribution over the list of probabilities of actions\n",
    "    m = Categorical(probs)\n",
    "\n",
    "    # and sample an action using the distribution\n",
    "    action = m.sample()\n",
    "\n",
    "    # save to action buffer\n",
    "    model.saved_actions.append(SavedAction(m.log_prob(action), state_value))\n",
    "\n",
    "    # the action to take (which food)\n",
    "    return action.item()\n",
    "\n",
    "\n",
    "def finish_episode():\n",
    "    \"\"\"\n",
    "    Training code. Calculates actor and critic loss and performs backprop.\n",
    "    \"\"\"\n",
    "    R = 0\n",
    "    saved_actions = model.saved_actions\n",
    "    policy_losses = [] # list to save actor (policy) loss\n",
    "    value_losses = [] # list to save critic (value) loss\n",
    "    returns = [] # list to save the true values\n",
    "\n",
    "    # calculate the true value using rewards returned from the environment\n",
    "    for r in model.rewards[::-1]:\n",
    "        # calculate the discounted value\n",
    "        R = r + gamma * R\n",
    "        returns.insert(0, R)\n",
    "\n",
    "    returns = torch.tensor(returns)\n",
    "    returns = (returns - returns.mean()) / (returns.std() + eps)\n",
    "\n",
    "    for (log_prob, value), R in zip(saved_actions, returns):\n",
    "        advantage = R - value.item()\n",
    "\n",
    "        # calculate actor (policy) loss\n",
    "        policy_losses.append(-log_prob * advantage)\n",
    "\n",
    "        # calculate critic (value) loss using L1 smooth loss\n",
    "        value_losses.append(F.smooth_l1_loss(value, torch.tensor([R])))\n",
    "\n",
    "    # reset gradients\n",
    "    optimizer.zero_grad()\n",
    "\n",
    "    # sum up all the values of policy_losses and value_losses\n",
    "    loss = torch.stack(policy_losses).sum() + torch.stack(value_losses).sum()\n",
    "\n",
    "    # perform backprop\n",
    "    loss.backward()\n",
    "    optimizer.step()\n",
    "\n",
    "    # reset rewards and action buffer\n",
    "    del model.rewards[:]\n",
    "    del model.saved_actions[:]\n",
    "\n",
    "\n",
    "def train():\n",
    "    running_reward = 10\n",
    "    rewards = []\n",
    "    calories = []\n",
    "\n",
    "    # run infinitely many episodes\n",
    "    for i_episode in range(2000):\n",
    "\n",
    "        # reset environment and episode reward\n",
    "        state = env.reset()\n",
    "        ep_reward = 0\n",
    "        # for each episode, only run 9999 steps so that we don't\n",
    "        # infinite loop while learning\n",
    "        for t in range(1, 1000):\n",
    "            # select action from policy\n",
    "            action = select_action(state)\n",
    "            # take the action\n",
    "            state, reward= env.step(state[-1], action) # last element of state is the food index\n",
    "      \n",
    "            model.rewards.append(reward)\n",
    "            ep_reward += reward\n",
    "\n",
    "\n",
    "        # update cumulative reward\n",
    "        running_reward = 0.05 * ep_reward + (1 - 0.05) * running_reward\n",
    "        rewards.append(running_reward)\n",
    "        calories.append(env.state.calories)\n",
    "\n",
    "        # perform backprop\n",
    "        finish_episode()\n",
    "        # log results\n",
    "        if i_episode % log_interval == 0:\n",
    "            print('Episode {}\\tLast reward: {:.2f}\\tAverage reward: {:.2f}'.format(\n",
    "                  i_episode, ep_reward, running_reward))\n",
    "            '''\n",
    "                have to figure out plotting mechanism\n",
    "            '''\n",
    "\n",
    "    plt.plot(rewards)\n",
    "    plt.show()\n",
    "    plt.plot(calories)\n",
    "    plt.show()\n",
    "\n",
    "\n",
    "train()"
   ]
  }
 ],
 "metadata": {
  "kernelspec": {
   "display_name": "Python 3",
   "language": "python",
   "name": "python3"
  },
  "language_info": {
   "codemirror_mode": {
    "name": "ipython",
    "version": 3
   },
   "file_extension": ".py",
   "mimetype": "text/x-python",
   "name": "python",
   "nbconvert_exporter": "python",
   "pygments_lexer": "ipython3",
   "version": "3.11.4"
  }
 },
 "nbformat": 4,
 "nbformat_minor": 2
}
